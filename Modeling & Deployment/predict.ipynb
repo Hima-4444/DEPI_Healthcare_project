{
 "cells": [
  {
   "cell_type": "code",
   "execution_count": 15,
   "id": "4126fa15",
   "metadata": {},
   "outputs": [],
   "source": [
    "data = [\n",
    "    [41266,1,1,1,1,0,0], # 1\n",
    "    [35240,1,1,0,1,0,0], # 1\n",
    "    [30627,2,0,0,0,1,0], # 1\n",
    "    [0,2,1,0,0,1,1], # 0\n",
    "    [0,2,1,1,1,0,0], # 0\n",
    "    [0,2,1,0,0,1,0], # 0\n",
    "    [0,1,1,0,0,0,0], # 0\n",
    "    [0,1,1,1,1,0,0] # 0\n",
    "]"
   ]
  },
  {
   "cell_type": "code",
   "execution_count": null,
   "id": "99874180",
   "metadata": {},
   "outputs": [],
   "source": [
    "import mlflow\n",
    "logged_model = 'runs:/a488c6c762f741fe97e5becffdd49bc7/model'\n",
    "\n",
    "# Load model as a PyFuncModel.\n",
    "loaded_model = mlflow.pyfunc.load_model(logged_model)\n",
    "\n",
    "# Predict on a Pandas DataFrame.\n",
    "import pandas as pd\n",
    "loaded_model.predict(pd.DataFrame(data))"
   ]
  }
 ],
 "metadata": {
  "kernelspec": {
   "display_name": "Python 3",
   "language": "python",
   "name": "python3"
  },
  "language_info": {
   "codemirror_mode": {
    "name": "ipython",
    "version": 3
   },
   "file_extension": ".py",
   "mimetype": "text/x-python",
   "name": "python",
   "nbconvert_exporter": "python",
   "pygments_lexer": "ipython3",
   "version": "3.13.3"
  }
 },
 "nbformat": 4,
 "nbformat_minor": 5
}
